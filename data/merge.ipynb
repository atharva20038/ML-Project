{
 "cells": [
  {
   "cell_type": "code",
   "execution_count": 48,
   "metadata": {},
   "outputs": [],
   "source": [
    "import pandas as pd\n",
    "import numpy as np"
   ]
  },
  {
   "cell_type": "code",
   "execution_count": 49,
   "metadata": {},
   "outputs": [
    {
     "name": "stdout",
     "output_type": "stream",
     "text": [
      "<class 'pandas.core.frame.DataFrame'>\n",
      "RangeIndex: 114949 entries, 0 to 114948\n",
      "Data columns (total 12 columns):\n",
      " #   Column                   Non-Null Count   Dtype  \n",
      "---  ------                   --------------   -----  \n",
      " 0   company_permalink        114949 non-null  object \n",
      " 1   company_name             114948 non-null  object \n",
      " 2   company_category_list    111539 non-null  object \n",
      " 3   company_country_code     106271 non-null  object \n",
      " 4   company_state_code       104003 non-null  object \n",
      " 5   company_region           104782 non-null  object \n",
      " 6   company_city             104785 non-null  object \n",
      " 7   funding_round_permalink  114949 non-null  object \n",
      " 8   funding_round_type       114949 non-null  object \n",
      " 9   funding_round_code       31140 non-null   object \n",
      " 10  funded_at                114949 non-null  object \n",
      " 11  raised_amount_usd        94959 non-null   float64\n",
      "dtypes: float64(1), object(11)\n",
      "memory usage: 10.5+ MB\n"
     ]
    }
   ],
   "source": [
    "round_df = pd.read_csv('rounds.csv')\n",
    "round_df.info()"
   ]
  },
  {
   "cell_type": "code",
   "execution_count": 50,
   "metadata": {},
   "outputs": [
    {
     "name": "stdout",
     "output_type": "stream",
     "text": [
      "<class 'pandas.core.frame.DataFrame'>\n",
      "RangeIndex: 66368 entries, 0 to 66367\n",
      "Data columns (total 14 columns):\n",
      " #   Column             Non-Null Count  Dtype \n",
      "---  ------             --------------  ----- \n",
      " 0   permalink          66368 non-null  object\n",
      " 1   name               66367 non-null  object\n",
      " 2   homepage_url       61310 non-null  object\n",
      " 3   category_list      63220 non-null  object\n",
      " 4   funding_total_usd  66368 non-null  object\n",
      " 5   status             66368 non-null  object\n",
      " 6   country_code       59410 non-null  object\n",
      " 7   state_code         57821 non-null  object\n",
      " 8   region             58338 non-null  object\n",
      " 9   city               58340 non-null  object\n",
      " 10  funding_rounds     66368 non-null  int64 \n",
      " 11  founded_at         51147 non-null  object\n",
      " 12  first_funding_at   66344 non-null  object\n",
      " 13  last_funding_at    66368 non-null  object\n",
      "dtypes: int64(1), object(13)\n",
      "memory usage: 7.1+ MB\n"
     ]
    }
   ],
   "source": [
    "companies_df = pd.read_csv('companies.csv')\n",
    "companies_df.info()"
   ]
  },
  {
   "cell_type": "code",
   "execution_count": 51,
   "metadata": {},
   "outputs": [],
   "source": [
    "##Rename the column\n",
    "companies_df.rename(columns={'permalink':'company_permalink','name':'company_name'},inplace=True)"
   ]
  },
  {
   "cell_type": "code",
   "execution_count": 52,
   "metadata": {},
   "outputs": [],
   "source": [
    "output = round_df.merge(companies_df, on=\"company_name\", how=\"left\").fillna(0)"
   ]
  },
  {
   "cell_type": "code",
   "execution_count": 53,
   "metadata": {},
   "outputs": [
    {
     "name": "stdout",
     "output_type": "stream",
     "text": [
      "<class 'pandas.core.frame.DataFrame'>\n",
      "Int64Index: 115943 entries, 0 to 115942\n",
      "Data columns (total 25 columns):\n",
      " #   Column                   Non-Null Count   Dtype  \n",
      "---  ------                   --------------   -----  \n",
      " 0   company_permalink_x      115943 non-null  object \n",
      " 1   company_name             115943 non-null  object \n",
      " 2   company_category_list    115943 non-null  object \n",
      " 3   company_country_code     115943 non-null  object \n",
      " 4   company_state_code       115943 non-null  object \n",
      " 5   company_region           115943 non-null  object \n",
      " 6   company_city             115943 non-null  object \n",
      " 7   funding_round_permalink  115943 non-null  object \n",
      " 8   funding_round_type       115943 non-null  object \n",
      " 9   funding_round_code       115943 non-null  object \n",
      " 10  funded_at                115943 non-null  object \n",
      " 11  raised_amount_usd        115943 non-null  float64\n",
      " 12  company_permalink_y      115943 non-null  object \n",
      " 13  homepage_url             115943 non-null  object \n",
      " 14  category_list            115943 non-null  object \n",
      " 15  funding_total_usd        115943 non-null  object \n",
      " 16  status                   115943 non-null  object \n",
      " 17  country_code             115943 non-null  object \n",
      " 18  state_code               115943 non-null  object \n",
      " 19  region                   115943 non-null  object \n",
      " 20  city                     115943 non-null  object \n",
      " 21  funding_rounds           115943 non-null  int64  \n",
      " 22  founded_at               115943 non-null  object \n",
      " 23  first_funding_at         115943 non-null  object \n",
      " 24  last_funding_at          115943 non-null  object \n",
      "dtypes: float64(1), int64(1), object(23)\n",
      "memory usage: 23.0+ MB\n"
     ]
    }
   ],
   "source": [
    "output.info()"
   ]
  },
  {
   "cell_type": "code",
   "execution_count": 54,
   "metadata": {},
   "outputs": [
    {
     "data": {
      "text/plain": [
       "company_permalink_x        0\n",
       "company_name               0\n",
       "company_category_list      0\n",
       "company_country_code       0\n",
       "company_state_code         0\n",
       "company_region             0\n",
       "company_city               0\n",
       "funding_round_permalink    0\n",
       "funding_round_type         0\n",
       "funding_round_code         0\n",
       "funded_at                  0\n",
       "raised_amount_usd          0\n",
       "company_permalink_y        0\n",
       "homepage_url               0\n",
       "category_list              0\n",
       "funding_total_usd          0\n",
       "status                     0\n",
       "country_code               0\n",
       "state_code                 0\n",
       "region                     0\n",
       "city                       0\n",
       "funding_rounds             0\n",
       "founded_at                 0\n",
       "first_funding_at           0\n",
       "last_funding_at            0\n",
       "dtype: int64"
      ]
     },
     "execution_count": 54,
     "metadata": {},
     "output_type": "execute_result"
    }
   ],
   "source": [
    "output.isna().sum()"
   ]
  },
  {
   "cell_type": "code",
   "execution_count": 55,
   "metadata": {},
   "outputs": [
    {
     "data": {
      "text/plain": [
       "0         True\n",
       "1         True\n",
       "2         True\n",
       "3         True\n",
       "4         True\n",
       "          ... \n",
       "115938    True\n",
       "115939    True\n",
       "115940    True\n",
       "115941    True\n",
       "115942    True\n",
       "Length: 115943, dtype: bool"
      ]
     },
     "execution_count": 55,
     "metadata": {},
     "output_type": "execute_result"
    }
   ],
   "source": [
    "output['company_permalink_x'] == output['company_permalink_y']"
   ]
  },
  {
   "cell_type": "code",
   "execution_count": 56,
   "metadata": {},
   "outputs": [
    {
     "data": {
      "text/html": [
       "<div>\n",
       "<style scoped>\n",
       "    .dataframe tbody tr th:only-of-type {\n",
       "        vertical-align: middle;\n",
       "    }\n",
       "\n",
       "    .dataframe tbody tr th {\n",
       "        vertical-align: top;\n",
       "    }\n",
       "\n",
       "    .dataframe thead th {\n",
       "        text-align: right;\n",
       "    }\n",
       "</style>\n",
       "<table border=\"1\" class=\"dataframe\">\n",
       "  <thead>\n",
       "    <tr style=\"text-align: right;\">\n",
       "      <th></th>\n",
       "      <th>company_permalink_x</th>\n",
       "      <th>company_name</th>\n",
       "      <th>company_category_list</th>\n",
       "      <th>company_country_code</th>\n",
       "      <th>company_state_code</th>\n",
       "      <th>company_region</th>\n",
       "      <th>company_city</th>\n",
       "      <th>funding_round_permalink</th>\n",
       "      <th>funding_round_type</th>\n",
       "      <th>funding_round_code</th>\n",
       "      <th>...</th>\n",
       "      <th>funding_total_usd</th>\n",
       "      <th>status</th>\n",
       "      <th>country_code</th>\n",
       "      <th>state_code</th>\n",
       "      <th>region</th>\n",
       "      <th>city</th>\n",
       "      <th>funding_rounds</th>\n",
       "      <th>founded_at</th>\n",
       "      <th>first_funding_at</th>\n",
       "      <th>last_funding_at</th>\n",
       "    </tr>\n",
       "  </thead>\n",
       "  <tbody>\n",
       "    <tr>\n",
       "      <th>0</th>\n",
       "      <td>/organization/-fame</td>\n",
       "      <td>#fame</td>\n",
       "      <td>Media</td>\n",
       "      <td>IND</td>\n",
       "      <td>16</td>\n",
       "      <td>Mumbai</td>\n",
       "      <td>Mumbai</td>\n",
       "      <td>/funding-round/9a01d05418af9f794eebff7ace91f638</td>\n",
       "      <td>venture</td>\n",
       "      <td>B</td>\n",
       "      <td>...</td>\n",
       "      <td>10000000</td>\n",
       "      <td>operating</td>\n",
       "      <td>IND</td>\n",
       "      <td>16</td>\n",
       "      <td>Mumbai</td>\n",
       "      <td>Mumbai</td>\n",
       "      <td>1</td>\n",
       "      <td>0</td>\n",
       "      <td>2015-01-05</td>\n",
       "      <td>2015-01-05</td>\n",
       "    </tr>\n",
       "    <tr>\n",
       "      <th>1</th>\n",
       "      <td>/organization/-qounter</td>\n",
       "      <td>:Qounter</td>\n",
       "      <td>Application Platforms|Real Time|Social Network...</td>\n",
       "      <td>USA</td>\n",
       "      <td>DE</td>\n",
       "      <td>DE - Other</td>\n",
       "      <td>Delaware City</td>\n",
       "      <td>/funding-round/22dacff496eb7acb2b901dec1dfe5633</td>\n",
       "      <td>venture</td>\n",
       "      <td>A</td>\n",
       "      <td>...</td>\n",
       "      <td>700000</td>\n",
       "      <td>operating</td>\n",
       "      <td>USA</td>\n",
       "      <td>DE</td>\n",
       "      <td>DE - Other</td>\n",
       "      <td>Delaware City</td>\n",
       "      <td>2</td>\n",
       "      <td>2014-09-04</td>\n",
       "      <td>2014-03-01</td>\n",
       "      <td>2014-10-14</td>\n",
       "    </tr>\n",
       "    <tr>\n",
       "      <th>2</th>\n",
       "      <td>/organization/-qounter</td>\n",
       "      <td>:Qounter</td>\n",
       "      <td>Application Platforms|Real Time|Social Network...</td>\n",
       "      <td>USA</td>\n",
       "      <td>DE</td>\n",
       "      <td>DE - Other</td>\n",
       "      <td>Delaware City</td>\n",
       "      <td>/funding-round/b44fbb94153f6cdef13083530bb48030</td>\n",
       "      <td>seed</td>\n",
       "      <td>0</td>\n",
       "      <td>...</td>\n",
       "      <td>700000</td>\n",
       "      <td>operating</td>\n",
       "      <td>USA</td>\n",
       "      <td>DE</td>\n",
       "      <td>DE - Other</td>\n",
       "      <td>Delaware City</td>\n",
       "      <td>2</td>\n",
       "      <td>2014-09-04</td>\n",
       "      <td>2014-03-01</td>\n",
       "      <td>2014-10-14</td>\n",
       "    </tr>\n",
       "    <tr>\n",
       "      <th>3</th>\n",
       "      <td>/organization/-the-one-of-them-inc-</td>\n",
       "      <td>(THE) ONE of THEM,Inc.</td>\n",
       "      <td>Apps|Games|Mobile</td>\n",
       "      <td>0</td>\n",
       "      <td>0</td>\n",
       "      <td>0</td>\n",
       "      <td>0</td>\n",
       "      <td>/funding-round/650b8f704416801069bb178a1418776b</td>\n",
       "      <td>venture</td>\n",
       "      <td>B</td>\n",
       "      <td>...</td>\n",
       "      <td>3406878</td>\n",
       "      <td>operating</td>\n",
       "      <td>0</td>\n",
       "      <td>0</td>\n",
       "      <td>0</td>\n",
       "      <td>0</td>\n",
       "      <td>1</td>\n",
       "      <td>0</td>\n",
       "      <td>2014-01-30</td>\n",
       "      <td>2014-01-30</td>\n",
       "    </tr>\n",
       "    <tr>\n",
       "      <th>4</th>\n",
       "      <td>/organization/0-6-com</td>\n",
       "      <td>0-6.com</td>\n",
       "      <td>Curated Web</td>\n",
       "      <td>CHN</td>\n",
       "      <td>22</td>\n",
       "      <td>Beijing</td>\n",
       "      <td>Beijing</td>\n",
       "      <td>/funding-round/5727accaeaa57461bd22a9bdd945382d</td>\n",
       "      <td>venture</td>\n",
       "      <td>A</td>\n",
       "      <td>...</td>\n",
       "      <td>2000000</td>\n",
       "      <td>operating</td>\n",
       "      <td>CHN</td>\n",
       "      <td>22</td>\n",
       "      <td>Beijing</td>\n",
       "      <td>Beijing</td>\n",
       "      <td>1</td>\n",
       "      <td>2007-01-01</td>\n",
       "      <td>2008-03-19</td>\n",
       "      <td>2008-03-19</td>\n",
       "    </tr>\n",
       "  </tbody>\n",
       "</table>\n",
       "<p>5 rows × 25 columns</p>\n",
       "</div>"
      ],
      "text/plain": [
       "                   company_permalink_x            company_name  \\\n",
       "0                  /organization/-fame                   #fame   \n",
       "1               /organization/-qounter                :Qounter   \n",
       "2               /organization/-qounter                :Qounter   \n",
       "3  /organization/-the-one-of-them-inc-  (THE) ONE of THEM,Inc.   \n",
       "4                /organization/0-6-com                 0-6.com   \n",
       "\n",
       "                               company_category_list company_country_code  \\\n",
       "0                                              Media                  IND   \n",
       "1  Application Platforms|Real Time|Social Network...                  USA   \n",
       "2  Application Platforms|Real Time|Social Network...                  USA   \n",
       "3                                  Apps|Games|Mobile                    0   \n",
       "4                                        Curated Web                  CHN   \n",
       "\n",
       "  company_state_code company_region   company_city  \\\n",
       "0                 16         Mumbai         Mumbai   \n",
       "1                 DE     DE - Other  Delaware City   \n",
       "2                 DE     DE - Other  Delaware City   \n",
       "3                  0              0              0   \n",
       "4                 22        Beijing        Beijing   \n",
       "\n",
       "                           funding_round_permalink funding_round_type  \\\n",
       "0  /funding-round/9a01d05418af9f794eebff7ace91f638            venture   \n",
       "1  /funding-round/22dacff496eb7acb2b901dec1dfe5633            venture   \n",
       "2  /funding-round/b44fbb94153f6cdef13083530bb48030               seed   \n",
       "3  /funding-round/650b8f704416801069bb178a1418776b            venture   \n",
       "4  /funding-round/5727accaeaa57461bd22a9bdd945382d            venture   \n",
       "\n",
       "  funding_round_code  ... funding_total_usd     status country_code  \\\n",
       "0                  B  ...          10000000  operating          IND   \n",
       "1                  A  ...            700000  operating          USA   \n",
       "2                  0  ...            700000  operating          USA   \n",
       "3                  B  ...           3406878  operating            0   \n",
       "4                  A  ...           2000000  operating          CHN   \n",
       "\n",
       "  state_code      region           city funding_rounds  founded_at  \\\n",
       "0         16      Mumbai         Mumbai              1           0   \n",
       "1         DE  DE - Other  Delaware City              2  2014-09-04   \n",
       "2         DE  DE - Other  Delaware City              2  2014-09-04   \n",
       "3          0           0              0              1           0   \n",
       "4         22     Beijing        Beijing              1  2007-01-01   \n",
       "\n",
       "  first_funding_at last_funding_at  \n",
       "0       2015-01-05      2015-01-05  \n",
       "1       2014-03-01      2014-10-14  \n",
       "2       2014-03-01      2014-10-14  \n",
       "3       2014-01-30      2014-01-30  \n",
       "4       2008-03-19      2008-03-19  \n",
       "\n",
       "[5 rows x 25 columns]"
      ]
     },
     "execution_count": 56,
     "metadata": {},
     "output_type": "execute_result"
    }
   ],
   "source": [
    "output.head()"
   ]
  },
  {
   "cell_type": "code",
   "execution_count": 57,
   "metadata": {},
   "outputs": [
    {
     "name": "stdout",
     "output_type": "stream",
     "text": [
      "<class 'pandas.core.frame.DataFrame'>\n",
      "Int64Index: 115943 entries, 0 to 115942\n",
      "Data columns (total 25 columns):\n",
      " #   Column                   Non-Null Count   Dtype  \n",
      "---  ------                   --------------   -----  \n",
      " 0   company_permalink_x      115943 non-null  object \n",
      " 1   company_name             115943 non-null  object \n",
      " 2   company_category_list    115943 non-null  object \n",
      " 3   company_country_code     115943 non-null  object \n",
      " 4   company_state_code       115943 non-null  object \n",
      " 5   company_region           115943 non-null  object \n",
      " 6   company_city             115943 non-null  object \n",
      " 7   funding_round_permalink  115943 non-null  object \n",
      " 8   funding_round_type       115943 non-null  object \n",
      " 9   funding_round_code       115943 non-null  object \n",
      " 10  funded_at                115943 non-null  object \n",
      " 11  raised_amount_usd        115943 non-null  float64\n",
      " 12  company_permalink_y      115943 non-null  object \n",
      " 13  homepage_url             115943 non-null  object \n",
      " 14  category_list            115943 non-null  object \n",
      " 15  funding_total_usd        115943 non-null  object \n",
      " 16  status                   115943 non-null  object \n",
      " 17  country_code             115943 non-null  object \n",
      " 18  state_code               115943 non-null  object \n",
      " 19  region                   115943 non-null  object \n",
      " 20  city                     115943 non-null  object \n",
      " 21  funding_rounds           115943 non-null  int64  \n",
      " 22  founded_at               115943 non-null  object \n",
      " 23  first_funding_at         115943 non-null  object \n",
      " 24  last_funding_at          115943 non-null  object \n",
      "dtypes: float64(1), int64(1), object(23)\n",
      "memory usage: 23.0+ MB\n"
     ]
    }
   ],
   "source": [
    "output = output.drop_duplicates()\n",
    "output.info()"
   ]
  },
  {
   "cell_type": "code",
   "execution_count": 58,
   "metadata": {},
   "outputs": [
    {
     "data": {
      "text/html": [
       "<div>\n",
       "<style scoped>\n",
       "    .dataframe tbody tr th:only-of-type {\n",
       "        vertical-align: middle;\n",
       "    }\n",
       "\n",
       "    .dataframe tbody tr th {\n",
       "        vertical-align: top;\n",
       "    }\n",
       "\n",
       "    .dataframe thead th {\n",
       "        text-align: right;\n",
       "    }\n",
       "</style>\n",
       "<table border=\"1\" class=\"dataframe\">\n",
       "  <thead>\n",
       "    <tr style=\"text-align: right;\">\n",
       "      <th></th>\n",
       "      <th>company_permalink_x</th>\n",
       "      <th>company_name</th>\n",
       "      <th>company_category_list</th>\n",
       "      <th>company_country_code</th>\n",
       "      <th>company_state_code</th>\n",
       "      <th>company_region</th>\n",
       "      <th>company_city</th>\n",
       "      <th>funding_round_permalink</th>\n",
       "      <th>funding_round_type</th>\n",
       "      <th>funding_round_code</th>\n",
       "      <th>...</th>\n",
       "      <th>funding_total_usd</th>\n",
       "      <th>status</th>\n",
       "      <th>country_code</th>\n",
       "      <th>state_code</th>\n",
       "      <th>region</th>\n",
       "      <th>city</th>\n",
       "      <th>funding_rounds</th>\n",
       "      <th>founded_at</th>\n",
       "      <th>first_funding_at</th>\n",
       "      <th>last_funding_at</th>\n",
       "    </tr>\n",
       "  </thead>\n",
       "  <tbody>\n",
       "    <tr>\n",
       "      <th>0</th>\n",
       "      <td>/organization/-fame</td>\n",
       "      <td>#fame</td>\n",
       "      <td>Media</td>\n",
       "      <td>IND</td>\n",
       "      <td>16</td>\n",
       "      <td>Mumbai</td>\n",
       "      <td>Mumbai</td>\n",
       "      <td>/funding-round/9a01d05418af9f794eebff7ace91f638</td>\n",
       "      <td>venture</td>\n",
       "      <td>B</td>\n",
       "      <td>...</td>\n",
       "      <td>10000000</td>\n",
       "      <td>operating</td>\n",
       "      <td>IND</td>\n",
       "      <td>16</td>\n",
       "      <td>Mumbai</td>\n",
       "      <td>Mumbai</td>\n",
       "      <td>1</td>\n",
       "      <td>0</td>\n",
       "      <td>2015-01-05</td>\n",
       "      <td>2015-01-05</td>\n",
       "    </tr>\n",
       "    <tr>\n",
       "      <th>1</th>\n",
       "      <td>/organization/-qounter</td>\n",
       "      <td>:Qounter</td>\n",
       "      <td>Application Platforms|Real Time|Social Network...</td>\n",
       "      <td>USA</td>\n",
       "      <td>DE</td>\n",
       "      <td>DE - Other</td>\n",
       "      <td>Delaware City</td>\n",
       "      <td>/funding-round/22dacff496eb7acb2b901dec1dfe5633</td>\n",
       "      <td>venture</td>\n",
       "      <td>A</td>\n",
       "      <td>...</td>\n",
       "      <td>700000</td>\n",
       "      <td>operating</td>\n",
       "      <td>USA</td>\n",
       "      <td>DE</td>\n",
       "      <td>DE - Other</td>\n",
       "      <td>Delaware City</td>\n",
       "      <td>2</td>\n",
       "      <td>2014-09-04</td>\n",
       "      <td>2014-03-01</td>\n",
       "      <td>2014-10-14</td>\n",
       "    </tr>\n",
       "    <tr>\n",
       "      <th>2</th>\n",
       "      <td>/organization/-qounter</td>\n",
       "      <td>:Qounter</td>\n",
       "      <td>Application Platforms|Real Time|Social Network...</td>\n",
       "      <td>USA</td>\n",
       "      <td>DE</td>\n",
       "      <td>DE - Other</td>\n",
       "      <td>Delaware City</td>\n",
       "      <td>/funding-round/b44fbb94153f6cdef13083530bb48030</td>\n",
       "      <td>seed</td>\n",
       "      <td>0</td>\n",
       "      <td>...</td>\n",
       "      <td>700000</td>\n",
       "      <td>operating</td>\n",
       "      <td>USA</td>\n",
       "      <td>DE</td>\n",
       "      <td>DE - Other</td>\n",
       "      <td>Delaware City</td>\n",
       "      <td>2</td>\n",
       "      <td>2014-09-04</td>\n",
       "      <td>2014-03-01</td>\n",
       "      <td>2014-10-14</td>\n",
       "    </tr>\n",
       "    <tr>\n",
       "      <th>3</th>\n",
       "      <td>/organization/-the-one-of-them-inc-</td>\n",
       "      <td>(THE) ONE of THEM,Inc.</td>\n",
       "      <td>Apps|Games|Mobile</td>\n",
       "      <td>0</td>\n",
       "      <td>0</td>\n",
       "      <td>0</td>\n",
       "      <td>0</td>\n",
       "      <td>/funding-round/650b8f704416801069bb178a1418776b</td>\n",
       "      <td>venture</td>\n",
       "      <td>B</td>\n",
       "      <td>...</td>\n",
       "      <td>3406878</td>\n",
       "      <td>operating</td>\n",
       "      <td>0</td>\n",
       "      <td>0</td>\n",
       "      <td>0</td>\n",
       "      <td>0</td>\n",
       "      <td>1</td>\n",
       "      <td>0</td>\n",
       "      <td>2014-01-30</td>\n",
       "      <td>2014-01-30</td>\n",
       "    </tr>\n",
       "    <tr>\n",
       "      <th>4</th>\n",
       "      <td>/organization/0-6-com</td>\n",
       "      <td>0-6.com</td>\n",
       "      <td>Curated Web</td>\n",
       "      <td>CHN</td>\n",
       "      <td>22</td>\n",
       "      <td>Beijing</td>\n",
       "      <td>Beijing</td>\n",
       "      <td>/funding-round/5727accaeaa57461bd22a9bdd945382d</td>\n",
       "      <td>venture</td>\n",
       "      <td>A</td>\n",
       "      <td>...</td>\n",
       "      <td>2000000</td>\n",
       "      <td>operating</td>\n",
       "      <td>CHN</td>\n",
       "      <td>22</td>\n",
       "      <td>Beijing</td>\n",
       "      <td>Beijing</td>\n",
       "      <td>1</td>\n",
       "      <td>2007-01-01</td>\n",
       "      <td>2008-03-19</td>\n",
       "      <td>2008-03-19</td>\n",
       "    </tr>\n",
       "  </tbody>\n",
       "</table>\n",
       "<p>5 rows × 25 columns</p>\n",
       "</div>"
      ],
      "text/plain": [
       "                   company_permalink_x            company_name  \\\n",
       "0                  /organization/-fame                   #fame   \n",
       "1               /organization/-qounter                :Qounter   \n",
       "2               /organization/-qounter                :Qounter   \n",
       "3  /organization/-the-one-of-them-inc-  (THE) ONE of THEM,Inc.   \n",
       "4                /organization/0-6-com                 0-6.com   \n",
       "\n",
       "                               company_category_list company_country_code  \\\n",
       "0                                              Media                  IND   \n",
       "1  Application Platforms|Real Time|Social Network...                  USA   \n",
       "2  Application Platforms|Real Time|Social Network...                  USA   \n",
       "3                                  Apps|Games|Mobile                    0   \n",
       "4                                        Curated Web                  CHN   \n",
       "\n",
       "  company_state_code company_region   company_city  \\\n",
       "0                 16         Mumbai         Mumbai   \n",
       "1                 DE     DE - Other  Delaware City   \n",
       "2                 DE     DE - Other  Delaware City   \n",
       "3                  0              0              0   \n",
       "4                 22        Beijing        Beijing   \n",
       "\n",
       "                           funding_round_permalink funding_round_type  \\\n",
       "0  /funding-round/9a01d05418af9f794eebff7ace91f638            venture   \n",
       "1  /funding-round/22dacff496eb7acb2b901dec1dfe5633            venture   \n",
       "2  /funding-round/b44fbb94153f6cdef13083530bb48030               seed   \n",
       "3  /funding-round/650b8f704416801069bb178a1418776b            venture   \n",
       "4  /funding-round/5727accaeaa57461bd22a9bdd945382d            venture   \n",
       "\n",
       "  funding_round_code  ... funding_total_usd     status country_code  \\\n",
       "0                  B  ...          10000000  operating          IND   \n",
       "1                  A  ...            700000  operating          USA   \n",
       "2                  0  ...            700000  operating          USA   \n",
       "3                  B  ...           3406878  operating            0   \n",
       "4                  A  ...           2000000  operating          CHN   \n",
       "\n",
       "  state_code      region           city funding_rounds  founded_at  \\\n",
       "0         16      Mumbai         Mumbai              1           0   \n",
       "1         DE  DE - Other  Delaware City              2  2014-09-04   \n",
       "2         DE  DE - Other  Delaware City              2  2014-09-04   \n",
       "3          0           0              0              1           0   \n",
       "4         22     Beijing        Beijing              1  2007-01-01   \n",
       "\n",
       "  first_funding_at last_funding_at  \n",
       "0       2015-01-05      2015-01-05  \n",
       "1       2014-03-01      2014-10-14  \n",
       "2       2014-03-01      2014-10-14  \n",
       "3       2014-01-30      2014-01-30  \n",
       "4       2008-03-19      2008-03-19  \n",
       "\n",
       "[5 rows x 25 columns]"
      ]
     },
     "execution_count": 58,
     "metadata": {},
     "output_type": "execute_result"
    }
   ],
   "source": [
    "output.head()"
   ]
  },
  {
   "cell_type": "code",
   "execution_count": 59,
   "metadata": {},
   "outputs": [
    {
     "data": {
      "text/plain": [
       "Roost                                         48\n",
       "Spire                                         44\n",
       "Karma                                         44\n",
       "Peach                                         28\n",
       "Stoke                                         24\n",
       "                                              ..\n",
       "iLenze                                         1\n",
       "iLEVEL Solutions                               1\n",
       "Ilex Consumer Products Group                   1\n",
       "ILiAD Biotechnologies                          1\n",
       "İnovatiff Reklam ve Tanıtım Hizmetleri Tic     1\n",
       "Name: company_name, Length: 66103, dtype: int64"
      ]
     },
     "execution_count": 59,
     "metadata": {},
     "output_type": "execute_result"
    }
   ],
   "source": [
    "##irrelevant columns : company_permalink_y,company_permalink_x,company_country_code,company_state_code,company_region,company_city,funding_round_permalink,\n",
    "output['company_name'].value_counts()\n"
   ]
  },
  {
   "cell_type": "code",
   "execution_count": 60,
   "metadata": {},
   "outputs": [
    {
     "data": {
      "text/html": [
       "<div>\n",
       "<style scoped>\n",
       "    .dataframe tbody tr th:only-of-type {\n",
       "        vertical-align: middle;\n",
       "    }\n",
       "\n",
       "    .dataframe tbody tr th {\n",
       "        vertical-align: top;\n",
       "    }\n",
       "\n",
       "    .dataframe thead th {\n",
       "        text-align: right;\n",
       "    }\n",
       "</style>\n",
       "<table border=\"1\" class=\"dataframe\">\n",
       "  <thead>\n",
       "    <tr style=\"text-align: right;\">\n",
       "      <th></th>\n",
       "      <th>company_permalink</th>\n",
       "      <th>company_name</th>\n",
       "      <th>company_category_list</th>\n",
       "      <th>company_country_code</th>\n",
       "      <th>company_state_code</th>\n",
       "      <th>company_region</th>\n",
       "      <th>company_city</th>\n",
       "      <th>funding_round_permalink</th>\n",
       "      <th>funding_round_type</th>\n",
       "      <th>funding_round_code</th>\n",
       "      <th>funded_at</th>\n",
       "      <th>raised_amount_usd</th>\n",
       "    </tr>\n",
       "  </thead>\n",
       "  <tbody>\n",
       "    <tr>\n",
       "      <th>0</th>\n",
       "      <td>/organization/-fame</td>\n",
       "      <td>#fame</td>\n",
       "      <td>Media</td>\n",
       "      <td>IND</td>\n",
       "      <td>16</td>\n",
       "      <td>Mumbai</td>\n",
       "      <td>Mumbai</td>\n",
       "      <td>/funding-round/9a01d05418af9f794eebff7ace91f638</td>\n",
       "      <td>venture</td>\n",
       "      <td>B</td>\n",
       "      <td>2015-01-05</td>\n",
       "      <td>10000000.0</td>\n",
       "    </tr>\n",
       "    <tr>\n",
       "      <th>1</th>\n",
       "      <td>/organization/-qounter</td>\n",
       "      <td>:Qounter</td>\n",
       "      <td>Application Platforms|Real Time|Social Network...</td>\n",
       "      <td>USA</td>\n",
       "      <td>DE</td>\n",
       "      <td>DE - Other</td>\n",
       "      <td>Delaware City</td>\n",
       "      <td>/funding-round/22dacff496eb7acb2b901dec1dfe5633</td>\n",
       "      <td>venture</td>\n",
       "      <td>A</td>\n",
       "      <td>2014-10-14</td>\n",
       "      <td>NaN</td>\n",
       "    </tr>\n",
       "    <tr>\n",
       "      <th>2</th>\n",
       "      <td>/organization/-qounter</td>\n",
       "      <td>:Qounter</td>\n",
       "      <td>Application Platforms|Real Time|Social Network...</td>\n",
       "      <td>USA</td>\n",
       "      <td>DE</td>\n",
       "      <td>DE - Other</td>\n",
       "      <td>Delaware City</td>\n",
       "      <td>/funding-round/b44fbb94153f6cdef13083530bb48030</td>\n",
       "      <td>seed</td>\n",
       "      <td>NaN</td>\n",
       "      <td>2014-03-01</td>\n",
       "      <td>700000.0</td>\n",
       "    </tr>\n",
       "    <tr>\n",
       "      <th>3</th>\n",
       "      <td>/organization/-the-one-of-them-inc-</td>\n",
       "      <td>(THE) ONE of THEM,Inc.</td>\n",
       "      <td>Apps|Games|Mobile</td>\n",
       "      <td>NaN</td>\n",
       "      <td>NaN</td>\n",
       "      <td>NaN</td>\n",
       "      <td>NaN</td>\n",
       "      <td>/funding-round/650b8f704416801069bb178a1418776b</td>\n",
       "      <td>venture</td>\n",
       "      <td>B</td>\n",
       "      <td>2014-01-30</td>\n",
       "      <td>3406878.0</td>\n",
       "    </tr>\n",
       "    <tr>\n",
       "      <th>4</th>\n",
       "      <td>/organization/0-6-com</td>\n",
       "      <td>0-6.com</td>\n",
       "      <td>Curated Web</td>\n",
       "      <td>CHN</td>\n",
       "      <td>22</td>\n",
       "      <td>Beijing</td>\n",
       "      <td>Beijing</td>\n",
       "      <td>/funding-round/5727accaeaa57461bd22a9bdd945382d</td>\n",
       "      <td>venture</td>\n",
       "      <td>A</td>\n",
       "      <td>2008-03-19</td>\n",
       "      <td>2000000.0</td>\n",
       "    </tr>\n",
       "  </tbody>\n",
       "</table>\n",
       "</div>"
      ],
      "text/plain": [
       "                     company_permalink            company_name  \\\n",
       "0                  /organization/-fame                   #fame   \n",
       "1               /organization/-qounter                :Qounter   \n",
       "2               /organization/-qounter                :Qounter   \n",
       "3  /organization/-the-one-of-them-inc-  (THE) ONE of THEM,Inc.   \n",
       "4                /organization/0-6-com                 0-6.com   \n",
       "\n",
       "                               company_category_list company_country_code  \\\n",
       "0                                              Media                  IND   \n",
       "1  Application Platforms|Real Time|Social Network...                  USA   \n",
       "2  Application Platforms|Real Time|Social Network...                  USA   \n",
       "3                                  Apps|Games|Mobile                  NaN   \n",
       "4                                        Curated Web                  CHN   \n",
       "\n",
       "  company_state_code company_region   company_city  \\\n",
       "0                 16         Mumbai         Mumbai   \n",
       "1                 DE     DE - Other  Delaware City   \n",
       "2                 DE     DE - Other  Delaware City   \n",
       "3                NaN            NaN            NaN   \n",
       "4                 22        Beijing        Beijing   \n",
       "\n",
       "                           funding_round_permalink funding_round_type  \\\n",
       "0  /funding-round/9a01d05418af9f794eebff7ace91f638            venture   \n",
       "1  /funding-round/22dacff496eb7acb2b901dec1dfe5633            venture   \n",
       "2  /funding-round/b44fbb94153f6cdef13083530bb48030               seed   \n",
       "3  /funding-round/650b8f704416801069bb178a1418776b            venture   \n",
       "4  /funding-round/5727accaeaa57461bd22a9bdd945382d            venture   \n",
       "\n",
       "  funding_round_code   funded_at  raised_amount_usd  \n",
       "0                  B  2015-01-05         10000000.0  \n",
       "1                  A  2014-10-14                NaN  \n",
       "2                NaN  2014-03-01           700000.0  \n",
       "3                  B  2014-01-30          3406878.0  \n",
       "4                  A  2008-03-19          2000000.0  "
      ]
     },
     "execution_count": 60,
     "metadata": {},
     "output_type": "execute_result"
    }
   ],
   "source": [
    "round_df.head()\n"
   ]
  },
  {
   "cell_type": "code",
   "execution_count": 61,
   "metadata": {},
   "outputs": [
    {
     "name": "stdout",
     "output_type": "stream",
     "text": [
      "1379388\n"
     ]
    }
   ],
   "source": [
    "print(round_df.size)\n",
    "round_df = round_df[round_df.raised_amount_usd.notnull()]"
   ]
  },
  {
   "cell_type": "code",
   "execution_count": 62,
   "metadata": {},
   "outputs": [
    {
     "data": {
      "text/plain": [
       "1139508"
      ]
     },
     "execution_count": 62,
     "metadata": {},
     "output_type": "execute_result"
    }
   ],
   "source": [
    "round_df.size"
   ]
  },
  {
   "cell_type": "code",
   "execution_count": 63,
   "metadata": {},
   "outputs": [
    {
     "data": {
      "text/plain": [
       "A    12807\n",
       "B     8098\n",
       "C     4220\n",
       "D     1917\n",
       "E      781\n",
       "F      263\n",
       "G       71\n",
       "H       12\n",
       "Name: funding_round_code, dtype: int64"
      ]
     },
     "execution_count": 63,
     "metadata": {},
     "output_type": "execute_result"
    }
   ],
   "source": [
    "round_df['funding_round_code'].value_counts()"
   ]
  },
  {
   "cell_type": "code",
   "execution_count": 64,
   "metadata": {},
   "outputs": [
    {
     "data": {
      "text/plain": [
       "0"
      ]
     },
     "execution_count": 64,
     "metadata": {},
     "output_type": "execute_result"
    }
   ],
   "source": [
    "round_df['raised_amount_usd'].isna().sum()"
   ]
  },
  {
   "cell_type": "code",
   "execution_count": 65,
   "metadata": {},
   "outputs": [
    {
     "data": {
      "text/plain": [
       "0"
      ]
     },
     "execution_count": 65,
     "metadata": {},
     "output_type": "execute_result"
    }
   ],
   "source": [
    "round_df['funding_round_code'].replace(np.nan, 0, inplace=True)\n",
    "round_df['funding_round_code'].replace('A',1,inplace=True)\n",
    "round_df['funding_round_code'].replace('B',2,inplace=True)\n",
    "round_df['funding_round_code'].replace('C',3,inplace=True)\n",
    "round_df['funding_round_code'].replace('D',4,inplace=True)\n",
    "round_df['funding_round_code'].replace('E',5,inplace=True)\n",
    "round_df['funding_round_code'].replace('F',6,inplace=True)\n",
    "round_df['funding_round_code'].replace('G',7,inplace=True)\n",
    "round_df['funding_round_code'].replace('H',8,inplace=True)\n",
    "round_df['funding_round_code'].isna().sum()"
   ]
  },
  {
   "cell_type": "code",
   "execution_count": 66,
   "metadata": {},
   "outputs": [
    {
     "data": {
      "text/plain": [
       "venture                  50228\n",
       "seed                     23603\n",
       "debt_financing            6682\n",
       "angel                     4860\n",
       "grant                     2124\n",
       "private_equity            1936\n",
       "undisclosed               1582\n",
       "convertible_note          1447\n",
       "equity_crowdfunding       1228\n",
       "post_ipo_equity            628\n",
       "product_crowdfunding       386\n",
       "post_ipo_debt              152\n",
       "non_equity_assistance       73\n",
       "secondary_market            30\n",
       "Name: funding_round_type, dtype: int64"
      ]
     },
     "execution_count": 66,
     "metadata": {},
     "output_type": "execute_result"
    }
   ],
   "source": [
    "round_df['funding_round_type'].value_counts()"
   ]
  },
  {
   "cell_type": "code",
   "execution_count": 67,
   "metadata": {},
   "outputs": [
    {
     "data": {
      "text/plain": [
       "operating    53034\n",
       "closed        6238\n",
       "acquired      5549\n",
       "ipo           1547\n",
       "Name: status, dtype: int64"
      ]
     },
     "execution_count": 67,
     "metadata": {},
     "output_type": "execute_result"
    }
   ],
   "source": [
    "companies_df['status'].value_counts()"
   ]
  },
  {
   "cell_type": "code",
   "execution_count": 68,
   "metadata": {},
   "outputs": [
    {
     "name": "stdout",
     "output_type": "stream",
     "text": [
      "66368\n"
     ]
    }
   ],
   "source": [
    "round_df.company_name.unique().size\n",
    "print(companies_df.shape[0])\n",
    "companies_df['is_roundA'] = np.zeros(companies_df.shape[0])   \n",
    "companies_df['is_roundB'] = np.zeros(companies_df.shape[0])\n",
    "companies_df['is_roundC'] = np.zeros(companies_df.shape[0])\n",
    "companies_df['is_roundD'] = np.zeros(companies_df.shape[0])\n",
    "companies_df['is_roundE'] = np.zeros(companies_df.shape[0])\n",
    "companies_df['is_roundF'] = np.zeros(companies_df.shape[0])\n",
    "companies_df['is_roundG'] = np.zeros(companies_df.shape[0])\n",
    "companies_df['is_roundH'] = np.zeros(companies_df.shape[0])"
   ]
  },
  {
   "cell_type": "code",
   "execution_count": 69,
   "metadata": {},
   "outputs": [],
   "source": [
    "count = 0\n",
    "dict = {}\n",
    "   \n",
    "\n",
    "for i in range(round_df.shape[0]):\n",
    "    if round_df.iloc[i]['company_name'] not in dict:\n",
    "        dict[round_df.iloc[i]['company_name']] = {}\n",
    "        \n",
    "        dict[round_df.iloc[i]['company_name']][1] = 0\n",
    "        dict[round_df.iloc[i]['company_name']][2] = 0\n",
    "        dict[round_df.iloc[i]['company_name']][3] = 0\n",
    "        dict[round_df.iloc[i]['company_name']][4] = 0\n",
    "        dict[round_df.iloc[i]['company_name']][5] = 0\n",
    "        dict[round_df.iloc[i]['company_name']][6] = 0\n",
    "        dict[round_df.iloc[i]['company_name']][7] = 0\n",
    "        dict[round_df.iloc[i]['company_name']][8] = 0\n",
    "        arr = round_df.iloc[i]['funding_round_code']\n",
    "        dict[round_df.iloc[i]['company_name']][arr] = 1\n",
    "    \n",
    "    else: \n",
    "        arr = round_df.iloc[i]['funding_round_code']\n",
    "        dict[round_df.iloc[i]['company_name']][arr] = 1\n",
    "        \n",
    "    # print(i)\n",
    "    \n"
   ]
  },
  {
   "cell_type": "code",
   "execution_count": 70,
   "metadata": {},
   "outputs": [],
   "source": [
    "countC = 0\n",
    "\n",
    "# print(dict)\n",
    "\n",
    "\n",
    "for i in range(companies_df.shape[0]):\n",
    "    \n",
    "    \n",
    "    if companies_df.iloc[i]['company_name'] in dict.keys() :    \n",
    "        companies_df.loc[countC,'is_roundA'] = dict[companies_df.iloc[i]['company_name']][1]\n",
    "        companies_df.loc[countC,'is_roundB'] = dict[companies_df.iloc[i]['company_name']][2]\n",
    "        companies_df.loc[countC,'is_roundC'] = dict[companies_df.iloc[i]['company_name']][3]\n",
    "        companies_df.loc[countC,'is_roundD'] = dict[companies_df.iloc[i]['company_name']][4]\n",
    "        companies_df.loc[countC,'is_roundE'] = dict[companies_df.iloc[i]['company_name']][5]\n",
    "        companies_df.loc[countC,'is_roundF'] = dict[companies_df.iloc[i]['company_name']][6]\n",
    "        companies_df.loc[countC,'is_roundG'] = dict[companies_df.iloc[i]['company_name']][7]\n",
    "        companies_df.loc[countC,'is_roundH'] = dict[companies_df.iloc[i]['company_name']][8]\n",
    "        \n",
    "        \n",
    "    countC += 1\n",
    "    # print(countC)"
   ]
  },
  {
   "cell_type": "code",
   "execution_count": 71,
   "metadata": {},
   "outputs": [],
   "source": [
    "# print(companies_df['is_roundA'].value_counts())\n",
    "# print(companies_df['is_roundB'].value_counts())\n",
    "# print(companies_df['is_roundC'].value_counts())\n",
    "# print(companies_df['is_roundD'].value_counts())\n",
    "# print(companies_df['is_roundE'].value_counts())\n",
    "# print(companies_df['is_roundF'].value_counts())\n",
    "# print(companies_df['is_roundG'].value_counts())\n",
    "# print(companies_df['is_roundH'].value_counts())"
   ]
  },
  {
   "cell_type": "code",
   "execution_count": 72,
   "metadata": {},
   "outputs": [
    {
     "name": "stdout",
     "output_type": "stream",
     "text": [
      "<class 'pandas.core.frame.DataFrame'>\n",
      "RangeIndex: 66368 entries, 0 to 66367\n",
      "Data columns (total 22 columns):\n",
      " #   Column             Non-Null Count  Dtype  \n",
      "---  ------             --------------  -----  \n",
      " 0   company_permalink  66368 non-null  object \n",
      " 1   company_name       66367 non-null  object \n",
      " 2   homepage_url       61310 non-null  object \n",
      " 3   category_list      63220 non-null  object \n",
      " 4   funding_total_usd  66368 non-null  object \n",
      " 5   status             66368 non-null  object \n",
      " 6   country_code       59410 non-null  object \n",
      " 7   state_code         57821 non-null  object \n",
      " 8   region             58338 non-null  object \n",
      " 9   city               58340 non-null  object \n",
      " 10  funding_rounds     66368 non-null  int64  \n",
      " 11  founded_at         51147 non-null  object \n",
      " 12  first_funding_at   66344 non-null  object \n",
      " 13  last_funding_at    66368 non-null  object \n",
      " 14  is_roundA          66368 non-null  float64\n",
      " 15  is_roundB          66368 non-null  float64\n",
      " 16  is_roundC          66368 non-null  float64\n",
      " 17  is_roundD          66368 non-null  float64\n",
      " 18  is_roundE          66368 non-null  float64\n",
      " 19  is_roundF          66368 non-null  float64\n",
      " 20  is_roundG          66368 non-null  float64\n",
      " 21  is_roundH          66368 non-null  float64\n",
      "dtypes: float64(8), int64(1), object(13)\n",
      "memory usage: 11.1+ MB\n"
     ]
    }
   ],
   "source": [
    "companies_df.info()"
   ]
  },
  {
   "cell_type": "code",
   "execution_count": 73,
   "metadata": {},
   "outputs": [
    {
     "data": {
      "text/plain": [
       "Software                                                                       3995\n",
       "Biotechnology                                                                  3615\n",
       "E-Commerce                                                                     1332\n",
       "Mobile                                                                         1177\n",
       "Clean Technology                                                               1133\n",
       "                                                                               ... \n",
       "Consumer Internet|Marketplaces|Mobile|Mobile Payments|Transportation|Travel       1\n",
       "Apps|Mobile|Private Social Networking                                             1\n",
       "Cloud Computing|Enterprise Software|Infrastructure|PaaS|Social Media              1\n",
       "Content|SaaS|Social Media Marketing|Software                                      1\n",
       "Consumer Goods|E-Commerce|Internet                                                1\n",
       "Name: category_list, Length: 27296, dtype: int64"
      ]
     },
     "execution_count": 73,
     "metadata": {},
     "output_type": "execute_result"
    }
   ],
   "source": [
    "companies_df['category_list'].value_counts()"
   ]
  },
  {
   "cell_type": "code",
   "execution_count": 83,
   "metadata": {},
   "outputs": [],
   "source": [
    "investor = pd.read_csv('investments.csv')\n",
    "invest_df = investor[['company_permalink','investor_permalink']].groupby(['company_permalink']).agg(['count'])"
   ]
  },
  {
   "cell_type": "code",
   "execution_count": 84,
   "metadata": {},
   "outputs": [
    {
     "data": {
      "text/html": [
       "<div>\n",
       "<style scoped>\n",
       "    .dataframe tbody tr th:only-of-type {\n",
       "        vertical-align: middle;\n",
       "    }\n",
       "\n",
       "    .dataframe tbody tr th {\n",
       "        vertical-align: top;\n",
       "    }\n",
       "\n",
       "    .dataframe thead tr th {\n",
       "        text-align: left;\n",
       "    }\n",
       "\n",
       "    .dataframe thead tr:last-of-type th {\n",
       "        text-align: right;\n",
       "    }\n",
       "</style>\n",
       "<table border=\"1\" class=\"dataframe\">\n",
       "  <thead>\n",
       "    <tr>\n",
       "      <th></th>\n",
       "      <th>investor_permalink</th>\n",
       "    </tr>\n",
       "    <tr>\n",
       "      <th></th>\n",
       "      <th>count</th>\n",
       "    </tr>\n",
       "    <tr>\n",
       "      <th>company_permalink</th>\n",
       "      <th></th>\n",
       "    </tr>\n",
       "  </thead>\n",
       "  <tbody>\n",
       "    <tr>\n",
       "      <th>/organization/0-6-com</th>\n",
       "      <td>1</td>\n",
       "    </tr>\n",
       "    <tr>\n",
       "      <th>/organization/004-technologies</th>\n",
       "      <td>1</td>\n",
       "    </tr>\n",
       "    <tr>\n",
       "      <th>/organization/01games-technology</th>\n",
       "      <td>1</td>\n",
       "    </tr>\n",
       "    <tr>\n",
       "      <th>/organization/0xdata</th>\n",
       "      <td>14</td>\n",
       "    </tr>\n",
       "    <tr>\n",
       "      <th>/organization/1</th>\n",
       "      <td>13</td>\n",
       "    </tr>\n",
       "  </tbody>\n",
       "</table>\n",
       "</div>"
      ],
      "text/plain": [
       "                                 investor_permalink\n",
       "                                              count\n",
       "company_permalink                                  \n",
       "/organization/0-6-com                             1\n",
       "/organization/004-technologies                    1\n",
       "/organization/01games-technology                  1\n",
       "/organization/0xdata                             14\n",
       "/organization/1                                  13"
      ]
     },
     "execution_count": 84,
     "metadata": {},
     "output_type": "execute_result"
    }
   ],
   "source": [
    "invest_df.head()"
   ]
  },
  {
   "cell_type": "code",
   "execution_count": 85,
   "metadata": {},
   "outputs": [
    {
     "name": "stderr",
     "output_type": "stream",
     "text": [
      "C:\\Users\\ATHARVA\\AppData\\Local\\Temp\\ipykernel_3808\\2608423124.py:1: FutureWarning: merging between different levels is deprecated and will be removed in a future version. (1 levels on the left, 2 on the right)\n",
      "  companies_df = pd.merge(how='inner',left=companies_df, right=invest_df, left_on='company_permalink', right_on='company_permalink')\n"
     ]
    }
   ],
   "source": [
    "companies_df = pd.merge(how='inner',left=companies_df, right=invest_df, left_on='company_permalink', right_on='company_permalink')"
   ]
  },
  {
   "cell_type": "code",
   "execution_count": 86,
   "metadata": {},
   "outputs": [
    {
     "name": "stdout",
     "output_type": "stream",
     "text": [
      "<class 'pandas.core.frame.DataFrame'>\n",
      "Int64Index: 44738 entries, 0 to 44737\n",
      "Data columns (total 24 columns):\n",
      " #   Column                             Non-Null Count  Dtype  \n",
      "---  ------                             --------------  -----  \n",
      " 0   company_permalink                  44738 non-null  object \n",
      " 1   company_name                       44737 non-null  object \n",
      " 2   homepage_url                       41971 non-null  object \n",
      " 3   category_list                      42309 non-null  object \n",
      " 4   funding_total_usd                  44738 non-null  object \n",
      " 5   status                             44738 non-null  object \n",
      " 6   country_code                       39748 non-null  object \n",
      " 7   state_code                         38563 non-null  object \n",
      " 8   region                             38926 non-null  object \n",
      " 9   city                               38928 non-null  object \n",
      " 10  funding_rounds                     44738 non-null  int64  \n",
      " 11  founded_at                         33318 non-null  object \n",
      " 12  first_funding_at                   44718 non-null  object \n",
      " 13  last_funding_at                    44738 non-null  object \n",
      " 14  is_roundA                          44738 non-null  float64\n",
      " 15  is_roundB                          44738 non-null  float64\n",
      " 16  is_roundC                          44738 non-null  float64\n",
      " 17  is_roundD                          44738 non-null  float64\n",
      " 18  is_roundE                          44738 non-null  float64\n",
      " 19  is_roundF                          44738 non-null  float64\n",
      " 20  is_roundG                          44738 non-null  float64\n",
      " 21  is_roundH                          44738 non-null  float64\n",
      " 22  ('investor_permalink', 'count')_x  44738 non-null  int64  \n",
      " 23  (investor_permalink, count)        44738 non-null  int64  \n",
      "dtypes: float64(8), int64(3), object(13)\n",
      "memory usage: 8.5+ MB\n"
     ]
    }
   ],
   "source": [
    "companies_df.info()"
   ]
  },
  {
   "cell_type": "code",
   "execution_count": 89,
   "metadata": {},
   "outputs": [],
   "source": [
    "companies_df = companies_df.rename(columns={\"('investor_permalink', 'count')_x\": \"investor_count\"})"
   ]
  },
  {
   "cell_type": "code",
   "execution_count": 90,
   "metadata": {},
   "outputs": [
    {
     "name": "stdout",
     "output_type": "stream",
     "text": [
      "<class 'pandas.core.frame.DataFrame'>\n",
      "Int64Index: 44738 entries, 0 to 44737\n",
      "Data columns (total 24 columns):\n",
      " #   Column                       Non-Null Count  Dtype  \n",
      "---  ------                       --------------  -----  \n",
      " 0   company_permalink            44738 non-null  object \n",
      " 1   company_name                 44737 non-null  object \n",
      " 2   homepage_url                 41971 non-null  object \n",
      " 3   category_list                42309 non-null  object \n",
      " 4   funding_total_usd            44738 non-null  object \n",
      " 5   status                       44738 non-null  object \n",
      " 6   country_code                 39748 non-null  object \n",
      " 7   state_code                   38563 non-null  object \n",
      " 8   region                       38926 non-null  object \n",
      " 9   city                         38928 non-null  object \n",
      " 10  funding_rounds               44738 non-null  int64  \n",
      " 11  founded_at                   33318 non-null  object \n",
      " 12  first_funding_at             44718 non-null  object \n",
      " 13  last_funding_at              44738 non-null  object \n",
      " 14  is_roundA                    44738 non-null  float64\n",
      " 15  is_roundB                    44738 non-null  float64\n",
      " 16  is_roundC                    44738 non-null  float64\n",
      " 17  is_roundD                    44738 non-null  float64\n",
      " 18  is_roundE                    44738 non-null  float64\n",
      " 19  is_roundF                    44738 non-null  float64\n",
      " 20  is_roundG                    44738 non-null  float64\n",
      " 21  is_roundH                    44738 non-null  float64\n",
      " 22  investor_count               44738 non-null  int64  \n",
      " 23  (investor_permalink, count)  44738 non-null  int64  \n",
      "dtypes: float64(8), int64(3), object(13)\n",
      "memory usage: 8.5+ MB\n"
     ]
    }
   ],
   "source": [
    "companies_df.info()"
   ]
  },
  {
   "cell_type": "code",
   "execution_count": 97,
   "metadata": {},
   "outputs": [],
   "source": [
    "companies_df.drop(columns=[companies_df.columns[-1]],inplace=True)"
   ]
  },
  {
   "cell_type": "code",
   "execution_count": 98,
   "metadata": {},
   "outputs": [
    {
     "name": "stdout",
     "output_type": "stream",
     "text": [
      "<class 'pandas.core.frame.DataFrame'>\n",
      "Int64Index: 44738 entries, 0 to 44737\n",
      "Data columns (total 23 columns):\n",
      " #   Column             Non-Null Count  Dtype  \n",
      "---  ------             --------------  -----  \n",
      " 0   company_permalink  44738 non-null  object \n",
      " 1   company_name       44737 non-null  object \n",
      " 2   homepage_url       41971 non-null  object \n",
      " 3   category_list      42309 non-null  object \n",
      " 4   funding_total_usd  44738 non-null  object \n",
      " 5   status             44738 non-null  object \n",
      " 6   country_code       39748 non-null  object \n",
      " 7   state_code         38563 non-null  object \n",
      " 8   region             38926 non-null  object \n",
      " 9   city               38928 non-null  object \n",
      " 10  funding_rounds     44738 non-null  int64  \n",
      " 11  founded_at         33318 non-null  object \n",
      " 12  first_funding_at   44718 non-null  object \n",
      " 13  last_funding_at    44738 non-null  object \n",
      " 14  is_roundA          44738 non-null  float64\n",
      " 15  is_roundB          44738 non-null  float64\n",
      " 16  is_roundC          44738 non-null  float64\n",
      " 17  is_roundD          44738 non-null  float64\n",
      " 18  is_roundE          44738 non-null  float64\n",
      " 19  is_roundF          44738 non-null  float64\n",
      " 20  is_roundG          44738 non-null  float64\n",
      " 21  is_roundH          44738 non-null  float64\n",
      " 22  investor_count     44738 non-null  int64  \n",
      "dtypes: float64(8), int64(2), object(13)\n",
      "memory usage: 9.2+ MB\n"
     ]
    }
   ],
   "source": [
    "companies_df.info()"
   ]
  },
  {
   "cell_type": "code",
   "execution_count": 99,
   "metadata": {},
   "outputs": [
    {
     "data": {
      "text/plain": [
       "company_permalink        0\n",
       "company_name             1\n",
       "homepage_url          2767\n",
       "category_list         2429\n",
       "funding_total_usd        0\n",
       "status                   0\n",
       "country_code          4990\n",
       "state_code            6175\n",
       "region                5812\n",
       "city                  5810\n",
       "funding_rounds           0\n",
       "founded_at           11420\n",
       "first_funding_at        20\n",
       "last_funding_at          0\n",
       "is_roundA                0\n",
       "is_roundB                0\n",
       "is_roundC                0\n",
       "is_roundD                0\n",
       "is_roundE                0\n",
       "is_roundF                0\n",
       "is_roundG                0\n",
       "is_roundH                0\n",
       "investor_count           0\n",
       "dtype: int64"
      ]
     },
     "execution_count": 99,
     "metadata": {},
     "output_type": "execute_result"
    }
   ],
   "source": [
    "companies_df.isnull().sum()"
   ]
  },
  {
   "cell_type": "code",
   "execution_count": 100,
   "metadata": {},
   "outputs": [],
   "source": [
    "companies_df.to_csv('final.csv',index=False)"
   ]
  },
  {
   "cell_type": "code",
   "execution_count": null,
   "metadata": {},
   "outputs": [],
   "source": []
  }
 ],
 "metadata": {
  "kernelspec": {
   "display_name": "Python 3.10.1 64-bit",
   "language": "python",
   "name": "python3"
  },
  "language_info": {
   "codemirror_mode": {
    "name": "ipython",
    "version": 3
   },
   "file_extension": ".py",
   "mimetype": "text/x-python",
   "name": "python",
   "nbconvert_exporter": "python",
   "pygments_lexer": "ipython3",
   "version": "3.10.1"
  },
  "orig_nbformat": 4,
  "vscode": {
   "interpreter": {
    "hash": "a0af84517f063bd45ee1b19a234400ee758964e44992839b9bc74f9265a5dcad"
   }
  }
 },
 "nbformat": 4,
 "nbformat_minor": 2
}

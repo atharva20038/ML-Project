{
 "cells": [
  {
   "cell_type": "code",
   "execution_count": 9,
   "metadata": {},
   "outputs": [],
   "source": [
    "import pandas as pd\n",
    "import numpy as np\n",
    "import matplotlib as plt"
   ]
  },
  {
   "cell_type": "code",
   "execution_count": 10,
   "metadata": {},
   "outputs": [],
   "source": [
    "df = pd.read_csv('data/final.csv')"
   ]
  },
  {
   "cell_type": "code",
   "execution_count": 11,
   "metadata": {},
   "outputs": [
    {
     "name": "stdout",
     "output_type": "stream",
     "text": [
      "<class 'pandas.core.frame.DataFrame'>\n",
      "RangeIndex: 44738 entries, 0 to 44737\n",
      "Data columns (total 23 columns):\n",
      " #   Column             Non-Null Count  Dtype  \n",
      "---  ------             --------------  -----  \n",
      " 0   company_permalink  44738 non-null  object \n",
      " 1   company_name       44737 non-null  object \n",
      " 2   homepage_url       41971 non-null  object \n",
      " 3   category_list      42309 non-null  object \n",
      " 4   funding_total_usd  44738 non-null  object \n",
      " 5   status             44738 non-null  object \n",
      " 6   country_code       39748 non-null  object \n",
      " 7   state_code         38563 non-null  object \n",
      " 8   region             38926 non-null  object \n",
      " 9   city               38928 non-null  object \n",
      " 10  funding_rounds     44738 non-null  int64  \n",
      " 11  founded_at         33318 non-null  object \n",
      " 12  first_funding_at   44718 non-null  object \n",
      " 13  last_funding_at    44738 non-null  object \n",
      " 14  is_roundA          44738 non-null  float64\n",
      " 15  is_roundB          44738 non-null  float64\n",
      " 16  is_roundC          44738 non-null  float64\n",
      " 17  is_roundD          44738 non-null  float64\n",
      " 18  is_roundE          44738 non-null  float64\n",
      " 19  is_roundF          44738 non-null  float64\n",
      " 20  is_roundG          44738 non-null  float64\n",
      " 21  is_roundH          44738 non-null  float64\n",
      " 22  investor_count     44738 non-null  int64  \n",
      "dtypes: float64(8), int64(2), object(13)\n",
      "memory usage: 7.9+ MB\n"
     ]
    }
   ],
   "source": [
    "df.info()"
   ]
  },
  {
   "cell_type": "code",
   "execution_count": 12,
   "metadata": {},
   "outputs": [
    {
     "data": {
      "text/plain": [
       "company_permalink        0\n",
       "company_name             1\n",
       "homepage_url          2767\n",
       "category_list         2429\n",
       "funding_total_usd        0\n",
       "status                   0\n",
       "country_code          4990\n",
       "state_code            6175\n",
       "region                5812\n",
       "city                  5810\n",
       "funding_rounds           0\n",
       "founded_at           11420\n",
       "first_funding_at        20\n",
       "last_funding_at          0\n",
       "is_roundA                0\n",
       "is_roundB                0\n",
       "is_roundC                0\n",
       "is_roundD                0\n",
       "is_roundE                0\n",
       "is_roundF                0\n",
       "is_roundG                0\n",
       "is_roundH                0\n",
       "investor_count           0\n",
       "dtype: int64"
      ]
     },
     "execution_count": 12,
     "metadata": {},
     "output_type": "execute_result"
    }
   ],
   "source": [
    "df.isnull().sum()"
   ]
  },
  {
   "cell_type": "code",
   "execution_count": 13,
   "metadata": {},
   "outputs": [],
   "source": [
    "df.drop(['founded_at','company_permalink','homepage_url','region','city','state_code'],inplace=True,axis=1)"
   ]
  },
  {
   "cell_type": "code",
   "execution_count": 14,
   "metadata": {},
   "outputs": [
    {
     "data": {
      "text/plain": [
       "company_name            1\n",
       "category_list        2429\n",
       "funding_total_usd       0\n",
       "status                  0\n",
       "country_code         4990\n",
       "funding_rounds          0\n",
       "first_funding_at       20\n",
       "last_funding_at         0\n",
       "is_roundA               0\n",
       "is_roundB               0\n",
       "is_roundC               0\n",
       "is_roundD               0\n",
       "is_roundE               0\n",
       "is_roundF               0\n",
       "is_roundG               0\n",
       "is_roundH               0\n",
       "investor_count          0\n",
       "dtype: int64"
      ]
     },
     "execution_count": 14,
     "metadata": {},
     "output_type": "execute_result"
    }
   ],
   "source": [
    "df.isnull().sum()"
   ]
  },
  {
   "cell_type": "code",
   "execution_count": 15,
   "metadata": {},
   "outputs": [],
   "source": [
    "df.dropna(inplace=True)"
   ]
  },
  {
   "cell_type": "code",
   "execution_count": 16,
   "metadata": {},
   "outputs": [
    {
     "data": {
      "text/plain": [
       "company_name         0\n",
       "category_list        0\n",
       "funding_total_usd    0\n",
       "status               0\n",
       "country_code         0\n",
       "funding_rounds       0\n",
       "first_funding_at     0\n",
       "last_funding_at      0\n",
       "is_roundA            0\n",
       "is_roundB            0\n",
       "is_roundC            0\n",
       "is_roundD            0\n",
       "is_roundE            0\n",
       "is_roundF            0\n",
       "is_roundG            0\n",
       "is_roundH            0\n",
       "investor_count       0\n",
       "dtype: int64"
      ]
     },
     "execution_count": 16,
     "metadata": {},
     "output_type": "execute_result"
    }
   ],
   "source": [
    "df.isnull().sum()"
   ]
  },
  {
   "cell_type": "code",
   "execution_count": 17,
   "metadata": {},
   "outputs": [
    {
     "data": {
      "text/plain": [
       "38571"
      ]
     },
     "execution_count": 17,
     "metadata": {},
     "output_type": "execute_result"
    }
   ],
   "source": [
    "df.shape[0]"
   ]
  },
  {
   "cell_type": "code",
   "execution_count": null,
   "metadata": {},
   "outputs": [],
   "source": []
  },
  {
   "cell_type": "markdown",
   "metadata": {},
   "source": [
    "EDA"
   ]
  },
  {
   "cell_type": "markdown",
   "metadata": {},
   "source": []
  }
 ],
 "metadata": {
  "kernelspec": {
   "display_name": "Python 3.10.1 64-bit",
   "language": "python",
   "name": "python3"
  },
  "language_info": {
   "codemirror_mode": {
    "name": "ipython",
    "version": 3
   },
   "file_extension": ".py",
   "mimetype": "text/x-python",
   "name": "python",
   "nbconvert_exporter": "python",
   "pygments_lexer": "ipython3",
   "version": "3.10.1"
  },
  "orig_nbformat": 4,
  "vscode": {
   "interpreter": {
    "hash": "a0af84517f063bd45ee1b19a234400ee758964e44992839b9bc74f9265a5dcad"
   }
  }
 },
 "nbformat": 4,
 "nbformat_minor": 2
}
